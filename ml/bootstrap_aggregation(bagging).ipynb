{
 "cells": [
  {
   "cell_type": "code",
   "execution_count": null,
   "metadata": {},
   "outputs": [],
   "source": [
    "\"\"\"\n",
    "As methods such as 'Decision Tree' can be prone to the error of 'overfitting' on the training set which can in return lead to wrong predictions on new data, BOOTSTARP AGGREGATION (Bagging) is an ensembling style which attempts to resolve the overfitting error for regression or classification problems.\n",
    "\n",
    "Bagging's objective is to improve the accuracy and performance of ml algorithms by randomly taking subsets of the original datasets, with replacement, then fitting either a regressor(for regression) or a classifier(for classification) to each subset.\n",
    "predictions for each of these subsets are then aggregated via majority voting for classification, or averaginf for regression, thereby increasing the prediction's accuracy.\n",
    "\"\"\""
   ]
  },
  {
   "cell_type": "code",
   "execution_count": 2,
   "metadata": {},
   "outputs": [
    {
     "name": "stdout",
     "output_type": "stream",
     "text": [
      "Train data accuracy:  1.0\n",
      "Test data accuracy:  0.9111111111111111\n"
     ]
    }
   ],
   "source": [
    "# Evalatng the Base Classifier: \n",
    "\n",
    "# import neccesary modules\n",
    "from sklearn import datasets\n",
    "from sklearn.model_selection import train_test_split\n",
    "from sklearn.metrics import accuracy_score\n",
    "from sklearn.tree import DecisionTreeClassifier\n",
    "\n",
    "# load datasets\n",
    "data = datasets.load_wine(as_frame=True)\n",
    "X = data.data\n",
    "y = data.target\n",
    "\n",
    "# split X and y into train/test to properly evaluate our model on unseen data\n",
    "X_train, X_test, y_train, y_test = train_test_split(X, y, test_size=0.25)\n",
    "\n",
    "# instantiate Base Classifier and fit it to training data\n",
    "dt = DecisionTreeClassifier(random_state=22)\n",
    "dt.fit(X_train, y_train)\n",
    "\n",
    "# predict the class of wine the unseen test set and evaluate the model performance\n",
    "y_pred = dt.predict(X_test)\n",
    "print(\"Train data accuracy: \", accuracy_score(y_true = y_train, y_pred = dt.predict(X_train)))\n",
    "print(\"Test data accuracy: \", accuracy_score(y_true = y_test, y_pred = y_pred))\n"
   ]
  }
 ],
 "metadata": {
  "kernelspec": {
   "display_name": "Python 3",
   "language": "python",
   "name": "python3"
  },
  "language_info": {
   "codemirror_mode": {
    "name": "ipython",
    "version": 3
   },
   "file_extension": ".py",
   "mimetype": "text/x-python",
   "name": "python",
   "nbconvert_exporter": "python",
   "pygments_lexer": "ipython3",
   "version": "3.11.2"
  },
  "orig_nbformat": 4,
  "vscode": {
   "interpreter": {
    "hash": "aee8b7b246df8f9039afb4144a1f6fd8d2ca17a180786b69acc140d282b71a49"
   }
  }
 },
 "nbformat": 4,
 "nbformat_minor": 2
}
