{
 "cells": [
  {
   "cell_type": "code",
   "execution_count": null,
   "metadata": {},
   "outputs": [],
   "source": [
    "# One method is to try out different values and then pick the value that gives the best score. This technique is known as a grid search. If we had to select the values for two or more parameters, we would evaluate all combinations of the sets of values thus forming a grid of values.\n",
    "\n",
    "# Before we get into the example it is good to know what the parameter we are changing does. Higher values of C tell the model, the training data resembles real world information, place a greater weight on the training data. While lower values of C do the opposite.\n",
    "\n",
    "# First let's see what kind of results we can generate without a grid search using only the base parameters.\n",
    "\n",
    "# To get started we must first load in the dataset we will be working with.\n",
    "from sklearn import datasets\n",
    "from sklearn.linear_model import LogisticRegression\n",
    "iris = datasets.load_iris()\n",
    "\n",
    "# Next in order to create the model we must have a set of independent variables X and a dependant variable y.\n",
    "X = iris['data']\n",
    "y = iris['target']\n",
    "\n",
    "# Now we will load the logistic model for classifying the iris flowers:Creating the model, setting max_iter to a higher value to ensure that the model finds a result.\n",
    "\n",
    "# Keep in mind the default value for C in a logistic regression model is 1, we will compare this later.\n",
    "\n",
    "# In the example below, we look at the iris data set and try to train a model with varying values for C in logistic regression.\n",
    "logit = LogisticRegression(max_iter = 1000)\n",
    "\n",
    "# After we create the model, we must fit the model to the data.\n",
    "print(logit.fit(X, y))\n",
    "\n",
    "# To evaluate the model we run the score method.\n",
    "print(logit.score(X, y))\n",
    "\n",
    "# Hence, with the default settings of C=1, we achieved a Score of 0.973\n",
    "\n",
    "# Let's check if implementing a grid search would make any bette with a difference in values of 0.973"
   ]
  },
  {
   "cell_type": "code",
   "execution_count": null,
   "metadata": {},
   "outputs": [],
   "source": [
    "# IMPLEMENTING GRID SEARCH: Since the default value for C is 1, we will set a range of values surrounding it.\n",
    "from sklearn import datasets\n",
    "from sklearn.linear_model import LogisticRegression\n",
    "\n",
    "iris = datasets.load_iris()\n",
    "X = iris['data']\n",
    "y = iris['target']\n",
    "\n",
    "logit = LogisticRegression(max_iter = 1000)\n",
    "C = [0.25, 0.5, 0.75, 1, 1.25, 1.5, 1.78, 2]\n",
    "scores = []\n",
    "for choice in C:\n",
    "    logit.set_params(C=choice)\n",
    "    logit.fit(X, y)\n",
    "    scores.append(logit.score(X, y))\n",
    "print(scores)\n",
    "\n",
    "# We can see that the lower values of C performed worse than the base parameter of 1. However, as we increased the value of C to 1.75 the model experienced increased accuracy.\n",
    "\n",
    "# It seems that increasing C beyond this amount does not help increase model accuracy.\n",
    "\n",
    "# Note on Best Practices\n",
    "# We scored our logistic regression model by using the same data that was used to train it. If the model corresponds too closely to that data, it may not be great at predicting unseen data. This statistical error is known as over fitting.\n",
    "\n",
    "# To avoid being misled by the scores on the training data, we can put aside a portion of our data and use it specifically for the purpose of testing the model. Refer to the lecture on train/test splitting to avoid being misled and overfitting.\n"
   ]
  }
 ],
 "metadata": {
  "kernelspec": {
   "display_name": "Python 3 (ipykernel)",
   "language": "python",
   "name": "python3"
  },
  "orig_nbformat": 4,
  "vscode": {
   "interpreter": {
    "hash": "aee8b7b246df8f9039afb4144a1f6fd8d2ca17a180786b69acc140d282b71a49"
   }
  }
 },
 "nbformat": 4,
 "nbformat_minor": 2
}
