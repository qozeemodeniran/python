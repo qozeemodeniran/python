{
 "cells": [
  {
   "cell_type": "code",
   "execution_count": null,
   "metadata": {},
   "outputs": [],
   "source": [
    "# K-means: an unsupervised algorithm for data points clustering. \n",
    "# it iteratively divides data points into k-clusters by minimizing the variance in each cluster."
   ]
  },
  {
   "cell_type": "code",
   "execution_count": null,
   "metadata": {},
   "outputs": [],
   "source": [
    "# using 'Elbow Method' to estimate the best k-value, then using k-means to gorup data points into clusters\n",
    "\n",
    "# ----------Explanation of Algorithm----------\n",
    "\"\"\"\n",
    "- RAndomly assign each data pont to one of the k-clusters.\n",
    "- Compute theentroid of each cluster\n",
    "- Reassign each data point to the cluster with closest centroid\n",
    "- Repeat process until cluster assignments for each datapoint no longer change\n",
    "\"\"\"\n",
    "\n",
    "# ----------Good to note----------\n",
    "\"\"\"\n",
    "- When using k-means clustering, the number of clusters you want to group data into must be clearly stated.\n",
    "- The 'elbow method' allows graphng the inertia, and visualizing the point where linear decreasing started, and this point is called \"elbow\", and it's a good estimate for the bes k-based on the data at hand.\n",
    "\"\"\"\n",
    "\n",
    "# Visualizing data points\n",
    "import matplotlib.pyplot as plt\n",
    "\n",
    "x = [4, 5, 10, 4, 3, 11, 14 , 6, 10, 12]\n",
    "y = [21, 19, 24, 17, 16, 25, 24, 22, 21, 21]\n",
    "\n",
    "plt.scatter(x, y)\n",
    "plt.show()"
   ]
  },
  {
   "cell_type": "code",
   "execution_count": null,
   "metadata": {},
   "outputs": [],
   "source": [
    "# using 'elbow' method to visualize 'inertia' fro various k-values\n",
    "from sklearn.cluster import KMeans\n",
    "\n",
    "data = list(zip(x, y))\n",
    "inertias = []\n",
    "\n",
    "for i in range(1, 11):\n",
    "    kmeans = KMeans(n_clusters=i)\n",
    "    kmeans.fit(data)\n",
    "    inertias.append(kmeans.inertia_)\n",
    "\n",
    "plt.plot(range(1, 11), inertias, marker='o')\n",
    "plt.title('Elbow Method')\n",
    "plt.xlabel('Number of Clusters')\n",
    "plt.ylabel('Inertia')\n",
    "plt.show()"
   ]
  },
  {
   "cell_type": "code",
   "execution_count": null,
   "metadata": {},
   "outputs": [],
   "source": [
    "# The resulting visualization shows that '2' is a great value for K. Hence, we would retrain and visualize the result\n",
    "\n",
    "kmeans = KMeans(n_clusters=2)\n",
    "kmeans.fit(data)\n",
    "\n",
    "plt.scatter(x, y, c=kmeans.labels_)\n",
    "plt.show()"
   ]
  }
 ],
 "metadata": {
  "kernelspec": {
   "display_name": "Python 3",
   "language": "python",
   "name": "python3"
  },
  "language_info": {
   "codemirror_mode": {
    "name": "ipython",
    "version": 3
   },
   "file_extension": ".py",
   "mimetype": "text/x-python",
   "name": "python",
   "nbconvert_exporter": "python",
   "pygments_lexer": "ipython3",
   "version": "3.11.2"
  },
  "orig_nbformat": 4,
  "vscode": {
   "interpreter": {
    "hash": "aee8b7b246df8f9039afb4144a1f6fd8d2ca17a180786b69acc140d282b71a49"
   }
  }
 },
 "nbformat": 4,
 "nbformat_minor": 2
}
