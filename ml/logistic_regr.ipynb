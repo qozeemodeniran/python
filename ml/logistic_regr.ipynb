{
 "cells": [
  {
   "cell_type": "code",
   "execution_count": 4,
   "metadata": {},
   "outputs": [
    {
     "name": "stdout",
     "output_type": "stream",
     "text": [
      "Tumor is not cancerous\n"
     ]
    }
   ],
   "source": [
    "import numpy\n",
    "from sklearn import linear_model\n",
    "\n",
    "# dependent variable, X: represnting the tumor size in centimeters (X has to be reshaped into a column from a row for the LogisticRegression() function to work.)\n",
    "X = numpy.array([3.78, 2.44, 2.09, 0.14, 1.72, 1.65, 4.92, 4.37, 4.96, 4.52, 3.69, 5.88]).reshape(-1,1)\n",
    "\n",
    "# independent variable, y: showing whether or not the tumor is cancerous (O=\"No\", 1=\"Yes\")\n",
    "y = numpy.array([0, 0, 0, 0, 0, 0, 1, 1, 1, 1, 1, 1])\n",
    "\n",
    "# Using the Logistic Regression method LogisticRegression() to create Logistic Regression object, which has a fit() method that takes X and y values as parameters and fills the regression object with data set that describes the relationship\n",
    "logistic_regression = linear_model.LogisticRegression()\n",
    "logistic_regression.fit(X, y)\n",
    "\n",
    "# with a tumor size of 3.46mm, predict wether the tumor is cancerous or not\n",
    "prediction = logistic_regression.predict(numpy.array([3.46]).reshape(-1,1))\n",
    "\n",
    "if prediction == 0:\n",
    "    print(\"Tumor is not cancerous\")\n",
    "elif (prediction > 0):\n",
    "    print(\"Tumor is cancerous\")"
   ]
  },
  {
   "cell_type": "code",
   "execution_count": 1,
   "metadata": {},
   "outputs": [
    {
     "name": "stdout",
     "output_type": "stream",
     "text": [
      "[[4.03541657]]\n"
     ]
    }
   ],
   "source": [
    "# COEFFICIENT\n",
    "\n",
    "import numpy as np\n",
    "from sklearn import linear_model\n",
    "\n",
    "X = np.array([3.78, 2.44, 2.09, 0.14, 1.72, 1.65, 4.92, 4.37, 4.96, 4.52, 3.69, 5.88]).reshape(-1,1)\n",
    "y = np.array([0, 0, 0, 0, 0, 0, 1, 1, 1, 1, 1, 1])\n",
    "\n",
    "logistic_regression = linear_model.LogisticRegression()\n",
    "logistic_regression.fit(X, y)\n",
    "\n",
    "logistic_odds = logistic_regression.coef_\n",
    "odds = np.exp(logistic_odds)\n",
    "\n",
    "print(odds) \n",
    "\n",
    "# The results tells us that, as the size of a tumor increases by Imm, the odds of it being a tumore increases by 4x."
   ]
  },
  {
   "cell_type": "code",
   "execution_count": 2,
   "metadata": {},
   "outputs": [
    {
     "name": "stdout",
     "output_type": "stream",
     "text": [
      "[[0.60749955]\n",
      " [0.19268876]\n",
      " [0.12775886]\n",
      " [0.00955221]\n",
      " [0.08038616]\n",
      " [0.07345637]\n",
      " [0.88362743]\n",
      " [0.77901378]\n",
      " [0.88924409]\n",
      " [0.81293497]\n",
      " [0.57719129]\n",
      " [0.96664243]]\n"
     ]
    }
   ],
   "source": [
    "# PROBABILITY\n",
    "\"\"\"The coefficient and intercept values can be used to find the probability that each tumor is cancerous.\n",
    "\n",
    "Create a function that uses the model's coefficient and intercept values to return a new value. This new value represents probability that the given observation is a tumor\"\"\"\n",
    "\n",
    "import numpy as np\n",
    "from sklearn import linear_model\n",
    "\n",
    "X = np.array([3.78, 2.44, 2.09, 0.14, 1.72, 1.65, 4.92, 4.37, 4.96, 4.52, 3.69, 5.88]).reshape(-1,1)\n",
    "y = np.array([0, 0, 0, 0, 0, 0, 1, 1, 1, 1, 1, 1])\n",
    "\n",
    "logistic_regression = linear_model.LogisticRegression()\n",
    "logistic_regression.fit(X, y)\n",
    "\n",
    "# function that uses coefficient and intercept to return a new value\n",
    "def logit2prob(logistic_regression, X):\n",
    "    logistic_odds = logistic_regression.coef_ * X + logistic_regression.intercept_\n",
    "    logistic_odds = np.exp(logistic_odds)\n",
    "    probability = logistic_odds / (1+logistic_odds)\n",
    "\n",
    "    return(probability)\n",
    "\n",
    "print(logit2prob(logistic_regression, X))\n",
    "\n",
    "# Result: \n",
    "# 3.78 => 0.61 The probability that a tumor with the size 3.78cm is cancerous is 61%. \n",
    "# 2.44 => 0.19 The probability that a tumor with the size 2.44cm is cancerous is 19%. etc"
   ]
  }
 ],
 "metadata": {
  "kernelspec": {
   "display_name": "Python 3",
   "language": "python",
   "name": "python3"
  },
  "language_info": {
   "codemirror_mode": {
    "name": "ipython",
    "version": 3
   },
   "file_extension": ".py",
   "mimetype": "text/x-python",
   "name": "python",
   "nbconvert_exporter": "python",
   "pygments_lexer": "ipython3",
   "version": "3.10.9"
  },
  "orig_nbformat": 4,
  "vscode": {
   "interpreter": {
    "hash": "aee8b7b246df8f9039afb4144a1f6fd8d2ca17a180786b69acc140d282b71a49"
   }
  }
 },
 "nbformat": 4,
 "nbformat_minor": 2
}
