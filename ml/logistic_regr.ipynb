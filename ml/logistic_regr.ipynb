{
 "cells": [
  {
   "cell_type": "code",
   "execution_count": 4,
   "metadata": {},
   "outputs": [
    {
     "name": "stdout",
     "output_type": "stream",
     "text": [
      "Tumor is not cancerous\n"
     ]
    }
   ],
   "source": [
    "import numpy\n",
    "from sklearn import linear_model\n",
    "\n",
    "# dependent variable, X: represnting the tumor size in centimeters (X has to be reshaped into a column from a row for the LogisticRegression() function to work.)\n",
    "X = numpy.array([3.78, 2.44, 2.09, 0.14, 1.72, 1.65, 4.92, 4.37, 4.96, 4.52, 3.69, 5.88]).reshape(-1,1)\n",
    "\n",
    "# independent variable, y: showing whether or not the tumor is cancerous (O=\"No\", 1=\"Yes\")\n",
    "y = numpy.array([0, 0, 0, 0, 0, 0, 1, 1, 1, 1, 1, 1])\n",
    "\n",
    "# Using the Logistic Regression method LogisticRegression() to create Logistic Regression object, which has a fit() method that takes X and y values as parameters and fills the regression object with data set that describes the relationship\n",
    "logistic_regression = linear_model.LogisticRegression()\n",
    "logistic_regression.fit(X, y)\n",
    "\n",
    "# with a tumor size of 3.46mm, predict wether the tumor is cancerous or not\n",
    "prediction = logistic_regression.predict(numpy.array([3.46]).reshape(-1,1))\n",
    "\n",
    "if prediction == 0:\n",
    "    print(\"Tumor is not cancerous\")\n",
    "elif (prediction > 0):\n",
    "    print(\"Tumor is cancerous\")"
   ]
  }
 ],
 "metadata": {
  "kernelspec": {
   "display_name": "Python 3",
   "language": "python",
   "name": "python3"
  },
  "language_info": {
   "codemirror_mode": {
    "name": "ipython",
    "version": 3
   },
   "file_extension": ".py",
   "mimetype": "text/x-python",
   "name": "python",
   "nbconvert_exporter": "python",
   "pygments_lexer": "ipython3",
   "version": "3.10.9"
  },
  "orig_nbformat": 4,
  "vscode": {
   "interpreter": {
    "hash": "aee8b7b246df8f9039afb4144a1f6fd8d2ca17a180786b69acc140d282b71a49"
   }
  }
 },
 "nbformat": 4,
 "nbformat_minor": 2
}
